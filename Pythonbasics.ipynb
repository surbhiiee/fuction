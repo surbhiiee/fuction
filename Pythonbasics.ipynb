{
  "nbformat": 4,
  "nbformat_minor": 0,
  "metadata": {
    "colab": {
      "provenance": []
    },
    "kernelspec": {
      "name": "python3",
      "display_name": "Python 3"
    },
    "language_info": {
      "name": "python"
    }
  },
  "cells": [
    {
      "cell_type": "markdown",
      "source": [
        "#Python Basic Question##"
      ],
      "metadata": {
        "id": "HtjvcwreTJ5l"
      }
    },
    {
      "cell_type": "markdown",
      "source": [
        "1. What is Python, and why is it popular ?\n",
        "\n",
        "  - Python is a simple, high-level programming language known for its easy syntax and readability. It's popular because it's easy to learn, supports many applications (like web, data science, and AI), has a large community, and offers powerful libraries.\n",
        "2. What is an interpreter in Python ?\n",
        "\n",
        "\n"
      ],
      "metadata": {
        "id": "PVjpFx1sTZnr"
      }
    },
    {
      "cell_type": "code",
      "source": [],
      "metadata": {
        "id": "VCxV3VaRTy7z"
      },
      "execution_count": null,
      "outputs": []
    },
    {
      "cell_type": "code",
      "source": [],
      "metadata": {
        "id": "qcH7Ra1QTy4P"
      },
      "execution_count": null,
      "outputs": []
    }
  ]
}